{
 "cells": [
  {
   "cell_type": "code",
   "execution_count": null,
   "metadata": {},
   "outputs": [
    {
     "name": "stderr",
     "output_type": "stream",
     "text": [
      "[nltk_data] Downloading package stopwords to\n",
      "[nltk_data]     C:\\Users\\Himanshu\\AppData\\Roaming\\nltk_data...\n",
      "[nltk_data]   Package stopwords is already up-to-date!\n",
      "[nltk_data] Downloading package averaged_perceptron_tagger to\n",
      "[nltk_data]     C:\\Users\\Himanshu\\AppData\\Roaming\\nltk_data...\n",
      "[nltk_data]   Package averaged_perceptron_tagger is already up-to-\n",
      "[nltk_data]       date!\n"
     ]
    },
    {
     "name": "stdout",
     "output_type": "stream",
     "text": [
      "List Trainer: [####################] 100%\n"
     ]
    }
   ],
   "source": [
    "from chatterbot import ChatBot\n",
    "from chatterbot.trainers import ListTrainer\n",
    "import pyttsx3 \n",
    "\n",
    "rob=ChatBot(\"my bot\")\n",
    "\n",
    "engine = pyttsx3.init()\n",
    "\n",
    "voices = engine.getProperty('voices')\n",
    "\n",
    "engine.setProperty('voice', voices[1].id)\n",
    "\n",
    "def speak(word):\n",
    "    engine.say(word)\n",
    "    engine.runAndWait()\n",
    "\n",
    "chat=open('conv.txt','r').readlines()\n",
    "\n",
    "trainer=ListTrainer(rob)\n",
    "trainer.train(chat)\n",
    "\n",
    "\"\"\"while True:\n",
    "    query=input(\"You:\")\n",
    "    if query=='bye':\n",
    "        print(\"Bot:Bye\")\n",
    "        break\n",
    "    ans=rob.get_response(query)\n",
    "    print(\"Bot:\",ans)\"\"\"\n",
    "\n",
    "import tkinter as tk\n",
    "import PIL.Image\n",
    "import PIL.ImageTk\n",
    "\n",
    "root=tk.Tk()\n",
    "root.title('ChatBot')\n",
    "\n",
    "canvas = tk.Canvas(root, height=800, width=1500)\n",
    "\n",
    "im = PIL.Image.open(\"robo.jpg\")\n",
    "photo = PIL.ImageTk.PhotoImage(im)\n",
    "background_label = tk.Label(root, image=photo)\n",
    "background_label.place(relx=0, rely=0, relwidth=1, relheight=1)\n",
    "\n",
    "canvas.pack()\n",
    "    \n",
    "def ask():\n",
    "    query=textF.get()\n",
    "    bot_ans=rob.get_response(query)\n",
    "    msg.insert('end',f'You : {query}')\n",
    "    msg.insert('end',f'Bot : {str(bot_ans)}')\n",
    "    msg.insert('end',\"\\n\")\n",
    "    speak(bot_ans)\n",
    "    textF.delete(0,'end')\n",
    "    msg.yview('end')\n",
    "    \n",
    "def enter(event):\n",
    "    btn.invoke()\n",
    "\n",
    "l=tk.Label(root,text='Welcome to the ChatBot', bd=2,relief='sunken')\n",
    "l.config(bg='#3E3E43',fg='#FFFFFF', font=('Courier', 25, 'bold'))\n",
    "l.place(relx=0.5, rely=0.04, relwidth=0.4, relheight=0.08, anchor='n')\n",
    "\n",
    "frame=tk.Frame(root)\n",
    "\n",
    "sc=tk.Scrollbar(frame)\n",
    "msg=tk.Listbox(frame,width=80,height=20,yscrollcommand=sc.set)\n",
    "\n",
    "sc.pack(side='right',fill='y')\n",
    "msg.pack(side='left',fill='both')\n",
    "\n",
    "frame.place(relx=0.8, rely=0.2, relwidth=0.35, relheight=0.45, anchor='n')\n",
    "\n",
    "textF=tk.Entry(root,font=('Verdana',12))\n",
    "textF.place(relx=0.8, rely=0.67, relwidth=0.35, relheight=0.04, anchor='n')\n",
    "\n",
    "btn=tk.Button(root,text='Ask to Bot',command=lambda : ask())\n",
    "btn.config(bg='#eeeeee', fg='black', font=('Courier', 12, 'bold'),border=5)\n",
    "btn.place(relx=0.75, rely=0.73, relwidth=0.11, relheight=0.04)\n",
    "\n",
    "root.bind('<Return>',enter)\n",
    "\n",
    "root.mainloop()"
   ]
  },
  {
   "cell_type": "code",
   "execution_count": null,
   "metadata": {},
   "outputs": [],
   "source": []
  }
 ],
 "metadata": {
  "kernelspec": {
   "display_name": "Python 3",
   "language": "python",
   "name": "python3"
  },
  "language_info": {
   "codemirror_mode": {
    "name": "ipython",
    "version": 3
   },
   "file_extension": ".py",
   "mimetype": "text/x-python",
   "name": "python",
   "nbconvert_exporter": "python",
   "pygments_lexer": "ipython3",
   "version": "3.7.6"
  }
 },
 "nbformat": 4,
 "nbformat_minor": 4
}
